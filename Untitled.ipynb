{
 "cells": [
  {
   "cell_type": "code",
   "execution_count": 1,
   "id": "26938599",
   "metadata": {},
   "outputs": [
    {
     "name": "stdout",
     "output_type": "stream",
     "text": [
      "^C\n"
     ]
    }
   ],
   "source": [
    "!bokeh serve --show crimemap.py"
   ]
  },
  {
   "cell_type": "code",
   "execution_count": 4,
   "id": "86e463a3",
   "metadata": {},
   "outputs": [],
   "source": [
    "from bokeh.models import ColorBar, ColumnDataSource\n",
    "from bokeh.palettes import Spectral6\n",
    "from bokeh.plotting import figure, output_file, show\n",
    "from bokeh.transform import linear_cmap\n",
    "\n",
    "output_file(\"styling_linear_mappers.html\", title=\"styling_linear_mappers.py example\")\n",
    "\n",
    "x = [1,2,3,4,5,7,8,9,10]\n",
    "y = [1,2,3,4,5,7,8,9,10]\n",
    "\n",
    "#Use the field name of the column source\n",
    "mapper = linear_cmap(field_name='y', palette=Spectral6 ,low=min(y) ,high=max(y))\n",
    "\n",
    "source = ColumnDataSource(dict(x=x,y=y))\n",
    "\n",
    "p = figure(width=300, height=300, title=\"Linear Color Map Based on Y\")\n",
    "\n",
    "p.circle(x='x', y='y', line_color=mapper,color=mapper, fill_alpha=1, size=12, source=source)\n",
    "\n",
    "color_bar = ColorBar(color_mapper=mapper['transform'], width=8)\n",
    "\n",
    "p.add_layout(color_bar, 'right')\n",
    "\n",
    "show(p)"
   ]
  },
  {
   "cell_type": "code",
   "execution_count": 5,
   "id": "fae7d319",
   "metadata": {},
   "outputs": [
    {
     "ename": "NameError",
     "evalue": "name 'cividis' is not defined",
     "output_type": "error",
     "traceback": [
      "\u001b[1;31m---------------------------------------------------------------------------\u001b[0m",
      "\u001b[1;31mNameError\u001b[0m                                 Traceback (most recent call last)",
      "\u001b[1;32m~\\AppData\\Local\\Temp/ipykernel_22756/328672261.py\u001b[0m in \u001b[0;36m<module>\u001b[1;34m\u001b[0m\n\u001b[1;32m----> 1\u001b[1;33m \u001b[0mcividis\u001b[0m\u001b[1;33m(\u001b[0m\u001b[1;36m6\u001b[0m\u001b[1;33m)\u001b[0m\u001b[1;33m\u001b[0m\u001b[1;33m\u001b[0m\u001b[0m\n\u001b[0m",
      "\u001b[1;31mNameError\u001b[0m: name 'cividis' is not defined"
     ]
    }
   ],
   "source": [
    "cividis(6)"
   ]
  },
  {
   "cell_type": "code",
   "execution_count": null,
   "id": "bd75bb9b",
   "metadata": {},
   "outputs": [],
   "source": []
  }
 ],
 "metadata": {
  "kernelspec": {
   "display_name": "Python 3 (ipykernel)",
   "language": "python",
   "name": "python3"
  },
  "language_info": {
   "codemirror_mode": {
    "name": "ipython",
    "version": 3
   },
   "file_extension": ".py",
   "mimetype": "text/x-python",
   "name": "python",
   "nbconvert_exporter": "python",
   "pygments_lexer": "ipython3",
   "version": "3.8.12"
  }
 },
 "nbformat": 4,
 "nbformat_minor": 5
}
